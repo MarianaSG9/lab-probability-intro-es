{
 "cells": [
  {
   "cell_type": "markdown",
   "metadata": {},
   "source": [
    "# Probability"
   ]
  },
  {
   "cell_type": "markdown",
   "metadata": {},
   "source": [
    "## Reto 1\n",
    "Hay una caja con 10 bolas blancas, 12 bolas rojas y 8 bolas negras. Calcula la probabilidad de:\n",
    "* Sacar una bola blanca.\n",
    "* Sacar una bola blanca en la primera extracción y una bola negra en la segunda extracción sin reemplazar la primera.\n",
    "* Sacar una bola blanca en la primera extracción y una bola negra en la segunda extracción reemplazando la primera.\n",
    "* Sacar 3 bolas y que sean todas de diferentes colores."
   ]
  },
  {
   "cell_type": "code",
   "execution_count": 41,
   "metadata": {
    "scrolled": true
   },
   "outputs": [
    {
     "name": "stdout",
     "output_type": "stream",
     "text": [
      "La probabilidad de sacar una bola blanca es: 33.33%\n",
      "Sacar una bola blanca en la primera y una bola negra en la segunda (sin reemplazo) es: 9.20%\n",
      "Sacar una bola blanca en la primera y una bola negra en la segunda (con reemplazo) es: 8.89%\n",
      "Sacar 3 bolas de diferentes colores es: 23.65%\n"
     ]
    }
   ],
   "source": [
    "##probabilidad --> formula de laplace \n",
    "# Cantidad de bolas\n",
    "blancas = 10\n",
    "rojas = 12\n",
    "negras = 8\n",
    "total_bolas = blancas + rojas + negras  # Espacio muestral\n",
    "\n",
    "sacar_blanca = blancas / total_bolas * 100\n",
    "print(f\"La probabilidad de sacar una bola blanca es: {sacar_blanca:.2f}%\")\n",
    "\n",
    "sacar_blanca_negra = (blancas / total_bolas) * (negras / (total_bolas - 1)) * 100\n",
    "print(f\"Sacar una bola blanca en la primera y una bola negra en la segunda (sin reemplazo) es: {sacar_blanca_negra:.2f}%\")\n",
    "\n",
    "sacar_blanca_negra2 = (blancas / total_bolas) * (negras / total_bolas) * 100\n",
    "print(f\"Sacar una bola blanca en la primera y una bola negra en la segunda (con reemplazo) es: {sacar_blanca_negra2:.2f}%\")\n",
    "\n",
    "sacar_diferente = (blancas / total_bolas) * (rojas / (total_bolas - 1)) * (negras / (total_bolas - 2))*100\n",
    "sacar_diferente_total = sacar_diferente * 6 \n",
    "print(f\"Sacar 3 bolas de diferentes colores es: {sacar_diferente_total:.2f}%\")\n"
   ]
  },
  {
   "cell_type": "markdown",
   "metadata": {},
   "source": [
    "## Reto 2\n",
    "\n",
    "Quieres ir de picnic el sábado. Odias la lluvia y quieres planificar tu fin de semana. Para ayudarte a tomar una decisión, recopilas los siguientes datos sobre los días lluviosos:\n",
    "\n",
    "* El 40% de todos los días están nublados.\n",
    "* Aproximadamente el 50% de los días nublados son lluviosos.\n",
    "* Aproximadamente el 20% de los días no nublados son lluviosos.\n",
    "\n",
    "¿Cuál es la probabilidad de que llueva el próximo sábado?"
   ]
  },
  {
   "cell_type": "code",
   "execution_count": 63,
   "metadata": {},
   "outputs": [
    {
     "name": "stdout",
     "output_type": "stream",
     "text": [
      "0.32\n"
     ]
    }
   ],
   "source": [
    "P_nublado = 0.4\n",
    "P_no_nublado = 1 - P_nublado  # Esto asigna 0.6\n",
    "\n",
    "P_lluvioso_nublado = 0.5\n",
    "P_lluvioso_no_nublado = 0.2\n",
    "\n",
    "P_lluvioso = P_nublado * P_lluvioso_nublado + P_no_nublado * P_lluvioso_no_nublado\n",
    "print(P_lluvioso)\n",
    "\n"
   ]
  },
  {
   "cell_type": "markdown",
   "metadata": {},
   "source": [
    "## Reto 3\n",
    "\n",
    "A y B son eventos de una probabilidad tal que \\(P(A) = 0.3\\), \\(P(B) = 0.6\\) y \\(P(A \\cap B) = 0.1\\)\n",
    "\n",
    "¿Cuáles de las siguientes afirmaciones son verdaderas?\n",
    "**SUGERENCIA: dibuja un gran diagrama de Venn a tu lado**\n",
    "* \\(P(\\overline{A}) = 0.7\\)\n",
    "* \\(P(A \\cup B) = 0.6\\)\n",
    "* \\(P(A \\cap \\overline{B}) = 0.2\\)\n",
    "* \\(P(A \\cup \\overline{A}) = 1\\)  \n",
    "* \\(P(A \\cap (B \\cup \\overline{B})) = 0.4\\)\n",
    "* \\(P(\\overline{A} \\cap \\overline{B}) = 0.3\\)\n",
    "* \\(P(\\overline{A \\cap B}) = 0.9\\)"
   ]
  },
  {
   "cell_type": "code",
   "execution_count": 65,
   "metadata": {},
   "outputs": [
    {
     "name": "stdout",
     "output_type": "stream",
     "text": [
      "P(¬A) = 0.7: True\n",
      "P(A ∪ B) = 0.6: False\n",
      "P(A ∩ ¬B) = 0.2: False\n",
      "P(A ∪ ¬A) = 1: True\n",
      "P(A ∩ (B ∪ ¬B)) = 0.4: False\n",
      "P(¬A ∩ ¬B) = 0.3: False\n",
      "P(¬(A ∩ B)) = 0.9: True\n"
     ]
    }
   ],
   "source": [
    "# Datos dados\n",
    "P_A = 0.3\n",
    "P_B = 0.6\n",
    "P_A_inter_B = 0.1\n",
    "\n",
    "# Cálculos\n",
    "P_no_A = 1 - P_A  # Complemento de A\n",
    "P_A_union_B = P_A + P_B - P_A_inter_B  # Unión de A y B\n",
    "P_A_inter_no_B = P_A - P_A_inter_B  # Intersección de A con complemento de B\n",
    "P_A_union_no_A = 1  # A o no A cubre todo el espacio muestral\n",
    "P_A_inter_B_union_no_B = P_A  # Intersección de A con B o no B es solo A\n",
    "P_no_A_inter_no_B = 1 - P_A_union_B  # Complemento de la unión de A y B\n",
    "P_no_A_inter_B = 1 - P_A_inter_B  # Complemento de la intersección de A y B\n",
    "\n",
    "# Verificación de las afirmaciones\n",
    "print(f\"P(¬A) = 0.7: {P_no_A == 0.7}\")\n",
    "print(f\"P(A ∪ B) = 0.6: {P_A_union_B == 0.6}\")\n",
    "print(f\"P(A ∩ ¬B) = 0.2: {P_A_inter_no_B == 0.2}\")\n",
    "print(f\"P(A ∪ ¬A) = 1: {P_A_union_no_A == 1}\")\n",
    "print(f\"P(A ∩ (B ∪ ¬B)) = 0.4: {P_A_inter_B_union_no_B == 0.4}\")\n",
    "print(f\"P(¬A ∩ ¬B) = 0.3: {P_no_A_inter_no_B == 0.3}\")\n",
    "print(f\"P(¬(A ∩ B)) = 0.9: {P_no_A_inter_B == 0.9}\")\n"
   ]
  },
  {
   "cell_type": "markdown",
   "metadata": {},
   "source": [
    "## Reto 4\n",
    "\n",
    "* Si alguien viaja a China, la probabilidad de contraer Covid es del 1%\n",
    "* Si alguien viaja a Italia, la probabilidad de contraer Covid es del 20%\n",
    "\n",
    "Lanzo un dado con números 1, 2, 3, 4, 5, 6:\n",
    "* Si sale 1: Vuelo a Italia\n",
    "* Si no sale 1: Vuelo a China\n",
    "\n",
    "Durante mi viaje, contraje Covid. ¿Cuál es la probabilidad de que haya volado a China?"
   ]
  },
  {
   "cell_type": "code",
   "execution_count": 71,
   "metadata": {},
   "outputs": [],
   "source": [
    "covid_china = 0.01\n",
    "covid_italia = 0.20\n",
    "\n",
    "italia = 1/6\n",
    "china =5/6\n",
    "\n",
    "italia = china\n",
    "\n",
    "covid= china * covid_china + italia * covid_italia\n",
    "\n",
    "china_covid = covid_china * china / covid"
   ]
  },
  {
   "cell_type": "markdown",
   "metadata": {},
   "source": [
    "## BONUS\n",
    "\n",
    "Lanzas 2 dados. ¿Cuál es la probabilidad de que la suma de los números sea 7? ¿Y 8? ¿Y 9? Luego simula 10000 veces y dibuja un gráfico de conteo.\n",
    "\n",
    "tu explicación aquí"
   ]
  },
  {
   "cell_type": "code",
   "execution_count": 75,
   "metadata": {},
   "outputs": [
    {
     "name": "stdout",
     "output_type": "stream",
     "text": [
      "{2: 0.0254, 3: 0.057, 4: 0.0798, 5: 0.1119, 6: 0.1364, 7: 0.17, 8: 0.1446, 9: 0.1075, 10: 0.0848, 11: 0.0564, 12: 0.0262}\n"
     ]
    }
   ],
   "source": [
    "import random\n",
    "\n",
    "def lanzar_dado():\n",
    "    return random.randint(1, 6)\n",
    "\n",
    "# Crear un diccionario para contar las sumas\n",
    "suma = {resultado: 0 for resultado in range(2, 13)}\n",
    "\n",
    "num_lanzamientos = 10000\n",
    "\n",
    "# Simular lanzamientos\n",
    "for _ in range(num_lanzamientos):  \n",
    "    dado1 = lanzar_dado()\n",
    "    dado2 = lanzar_dado()\n",
    "    suma_dados = dado1 + dado2\n",
    "    suma[suma_dados] += 1  # Incrementar el contador para la suma\n",
    "\n",
    "# Normalizar\n",
    "for resultado in range(2, 13):\n",
    "    suma[resultado] /= num_lanzamientos\n",
    "\n",
    "\n",
    "print(suma)\n"
   ]
  }
 ],
 "metadata": {
  "kernelspec": {
   "display_name": "Python 3 (ipykernel)",
   "language": "python",
   "name": "python3"
  },
  "language_info": {
   "codemirror_mode": {
    "name": "ipython",
    "version": 3
   },
   "file_extension": ".py",
   "mimetype": "text/x-python",
   "name": "python",
   "nbconvert_exporter": "python",
   "pygments_lexer": "ipython3",
   "version": "3.12.4"
  },
  "toc": {
   "base_numbering": 1,
   "nav_menu": {},
   "number_sections": false,
   "sideBar": true,
   "skip_h1_title": false,
   "title_cell": "Table of Contents",
   "title_sidebar": "Contents",
   "toc_cell": false,
   "toc_position": {
    "height": "calc(100% - 180px)",
    "left": "10px",
    "top": "150px",
    "width": "296.475px"
   },
   "toc_section_display": true,
   "toc_window_display": false
  },
  "varInspector": {
   "cols": {
    "lenName": 16,
    "lenType": 16,
    "lenVar": 40
   },
   "kernels_config": {
    "python": {
     "delete_cmd_postfix": "",
     "delete_cmd_prefix": "del ",
     "library": "var_list.py",
     "varRefreshCmd": "print(var_dic_list())"
    },
    "r": {
     "delete_cmd_postfix": ") ",
     "delete_cmd_prefix": "rm(",
     "library": "var_list.r",
     "varRefreshCmd": "cat(var_dic_list()) "
    }
   },
   "types_to_exclude": [
    "module",
    "function",
    "builtin_function_or_method",
    "instance",
    "_Feature"
   ],
   "window_display": false
  }
 },
 "nbformat": 4,
 "nbformat_minor": 4
}
